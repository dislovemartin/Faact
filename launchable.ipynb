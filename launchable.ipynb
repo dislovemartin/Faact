{
 "cells": [
  {
   "cell_type": "markdown",
   "metadata": {},
   "source": [
    "# Faact: Geo-Unblocking Infrastructure Deployment\n",
    "\n",
    "This notebook provides the code and instructions to deploy a network for accessing geo-restricted content. The architecture uses a Google Cloud Platform (GCP) instance as an exit node and a transit server in Hong Kong to forward traffic.\n",
    "\n",
    "### Architecture\n",
    "\n",
    "The traffic flow is as follows:\n",
    "\n",
    "**`Your Computer`** --- (Hysteria Proxy) ---> **`Hong Kong VPS`** --- (WireGuard Tunnel) ---> **`GCP Server (US)`** --- > **`Internet`**\n",
    "\n",
    "**Components:**\n",
    "- **Terraform:** To automatically provision the required GCP resources.\n",
    "- **WireGuard:** To create a secure VPN tunnel between the GCP server and the Hong Kong VPS.\n",
    "- **Hysteria:** A high-performance proxy to route your local traffic to the Hong Kong VPS."
   ]
  },
  {
   "cell_type": "markdown",
   "metadata": {},
   "source": [
    "### Prerequisites\n",
    "\n",
    "1.  **GCP Account:** A Google Cloud project with billing enabled.\n",
    "2.  **Hong Kong VPS:** A virtual private server from any provider, located in Hong Kong.\n",
    "3.  **Local Tools:** \n",
    "    - `terraform`\n",
    "    - `gcloud` CLI (authenticated with your GCP account)\n",
    "    - `wireguard-tools` (for key generation, optional)\n",
    "    - A Hysteria client binary"
   ]
  },
  {
   "cell_type": "markdown",
   "metadata": {},
   "source": [
    "## Part 1: Provision GCP Infrastructure with Terraform\n",
    "\n",
    "This cell writes the `main.tf` file to your local disk. It defines the VPC, subnet, firewall rules, and the GCE instance on Google Cloud."
   ]
  },
  {
   "cell_type": "code",
   "execution_count": null,
   "metadata": {},
   "outputs": [],
   "source": [
    "%%writefile main.tf\n",
    "\n",
    "terraform {\n",
    "  required_providers {\n",
    "    google = {\n",
    "      source  = \"hashicorp/google\"\n",
    "      version = \">= 4.50.0\"\n",
    "    }\n",
    "  }\n",
    "}\n",
    "\n",
    "provider \"google\" {\n",
    "  project = \"your-gcp-project-id\" # <<< REPLACE WITH YOUR GCP PROJECT ID\n",
    "  region  = \"us-west1\"\n",
    "}\n",
    "\n",
    "resource \"google_compute_network\" \"tiktok_stream_vpc\" {\n",
    "  name                    = \"tiktok-stream-vpc\"\n",
    "  auto_create_subnetworks = false\n",
    "}\n",
    "\n",
    "resource \"google_compute_subnetwork\" \"tiktok_stream_subnet\" {\n",
    "  name          = \"tiktok-stream-subnet-us-west1\"\n",
    "  ip_cidr_range = \"10.10.1.0/24\"\n",
    "  region        = \"us-west1\"\n",
    "  network       = google_compute_network.tiktok_stream_vpc.id\n",
    "}\n",
    "\n",
    "resource \"google_compute_firewall\" \"allow_stream_traffic\" {\n",
    "  name    = \"allow-stream-traffic\"\n",
    "  network = google_compute_network.tiktok_stream_vpc.name\n",
    "\n",
    "  allow {\n",
    "    protocol = \"udp\"\n",
    "    ports    = [\"51820\"] # WireGuard port\n",
    "  }\n",
    "\n",
    "  allow {\n",
    "    protocol = \"tcp\"\n",
    "    ports    = [\"22\"] # SSH port\n",
    "  }\n",
    "\n",
    "  source_ranges = [\"0.0.0.0/0\"]\n",
    "}\n",
    "\n",
    "resource \"google_compute_instance\" \"wg_server_usw1\" {\n",
    "  name         = \"wg-server-us-west1\"\n",
    "  machine_type = \"e2-small\"\n",
    "  zone         = \"us-west1-b\"\n",
    "\n",
    "  tags = [\"wireguard-server\"]\n",
    "\n",
    "  boot_disk {\n",
    "    initialize_params {\n",
    "      image = \"debian-cloud/debian-11\"\n",
    "    }\n",
    "  }\n",
    "\n",
    "  network_interface {\n",
    "    subnetwork   = google_compute_subnetwork.tiktok_stream_subnet.id\n",
    "    network_ip   = \"10.10.1.10\"\n",
    "    network_tier = \"PREMIUM\"\n",
    "    access_config {\n",
    "      // Assign temporary public IP\n",
    "    }\n",
    "  }\n",
    "\n",
    "  metadata_startup_script = <<-EOT\n",
    "    #! /bin/bash\n",
    "    apt-get update\n",
    "    apt-get install -y wireguard iptables\n",
    "    echo \"net.ipv4.ip_forward=1\" >> /etc/sysctl.conf\n",
    "    sysctl -p\n",
    "  EOT\n",
    "\n",
    "  service_account {\n",
    "    scopes = [\"https://www.googleapis.com/auth/cloud-platform\"]\n",
    "  }\n",
    "}\n",
    "\n",
    "output \"wg_server_ip\" {\n",
    "  value = google_compute_instance.wg_server_usw1.network_interface[0].access_config[0].nat_ip\n",
    "}"
   ]
  },
  {
   "cell_type": "markdown",
   "metadata": {},
   "source": [
    "Now, run the following cells to apply the Terraform configuration. Ensure you have authenticated with `gcloud` first."
   ]
  },
  {
   "cell_type": "code",
   "execution_count": null,
   "metadata": {},
   "outputs": [],
   "source": [
    "!terraform init"
   ]
  },
  {
   "cell_type": "code",
   "execution_count": null,
   "metadata": {},
   "outputs": [],
   "source": [
    "!terraform apply --auto-approve"
   ]
  },
  {
   "cell_type": "markdown",
   "metadata": {},
   "source": [
    "Capture the public IP address of your new GCP server. You will need this for the next steps."
   ]
  },
  {
   "cell_type": "code",
   "execution_count": null,
   "metadata": {},
   "outputs": [],
   "source": [
    "!terraform output wg_server_ip"
   ]
  },
  {
   "cell_type": "markdown",
   "metadata": {},
   "source": [
    "## Part 2: Configure the GCP & Hong Kong Servers\n",
    "\n",
    "You now need to configure WireGuard on both servers and Hysteria on the Hong Kong server. This involves generating key pairs and creating configuration files.\n",
    "\n",
    "### Step 2.1: Generate Keys\n",
    "\n",
    "SSH into **both** your GCP instance and your Hong Kong VPS and run the following command on each to generate a private and public key pair. Keep the terminal windows open.\n",
    "\n",
    "**Run on both servers:**"
   ]
  },
  {
   "cell_type": "code",
   "execution_count": null,
   "metadata": {},
   "outputs": [],
   "source": [
    "!umask 077; wg genkey | tee privatekey | wg pubkey > publickey"
   ]
  },
  {
   "cell_type": "markdown",
   "metadata": {},
   "source": [
    "### Step 2.2: Create Configuration Files\n",
    "\n",
    "You will now create the configuration files. **You must swap the public keys between the servers.**\n",
    "\n",
    "- `<GCP_SERVER_PUBLIC_IP>`: The IP address from the `terraform output` command.\n",
    "- `<GCP_SERVER_PRIVATE_KEY>`: The content of the `privatekey` file on the **GCP** server.\n",
    "- `<HK_CLIENT_PUBLIC_KEY>`: The content of the `publickey` file on the **Hong Kong** server.\n",
    "- `<HK_CLIENT_PRIVATE_KEY>`: The content of the `privatekey` file on the **Hong Kong** server.\n",
    "- `<GCP_SERVER_PUBLIC_KEY>`: The content of the `publickey` file on the **GCP** server.\n",
    "- `YOUR_VERY_SECRET_PASSWORD`: Create a strong password for Hysteria."
   ]
  },
  {
   "cell_type": "markdown",
   "metadata": {},
   "source": [
    "#### On the GCP Server\n",
    "\n",
    "Create `/etc/wireguard/wg0.conf` with the following content:"
   ]
  },
  {
   "cell_type": "code",
   "execution_count": null,
   "metadata": {},
   "outputs": [],
   "source": [
    "%%writefile gcp_wg0.conf\n",
    "\n",
    "[Interface]\n",
    "Address = 192.168.10.1/24\n",
    "ListenPort = 51820\n",
    "PrivateKey = <GCP_SERVER_PRIVATE_KEY>\n",
    "PostUp = iptables -A FORWARD -i %i -j ACCEPT; iptables -t nat -A POSTROUTING -o eth0 -j MASQUERADE\n",
    "PostDown = iptables -D FORWARD -i %i -j ACCEPT; iptables -t nat -D POSTROUTING -o eth0 -j MASQUERADE\n",
    "\n",
    "[Peer]\n",
    "PublicKey = <HK_CLIENT_PUBLIC_KEY>\n",
    "AllowedIPs = 192.168.10.2/32"
   ]
  },
  {
   "cell_type": "markdown",
   "metadata": {},
   "source": [
    "#### On the Hong Kong Server\n",
    "\n",
    "Create `/etc/wireguard/wg0.conf` with the following content:"
   ]
  },
  {
   "cell_type": "code",
   "execution_count": null,
   "metadata": {},
   "outputs": [],
   "source": [
    "%%writefile hk_wg0.conf\n",
    "\n",
    "[Interface]\n",
    "Address = 192.168.10.2/24\n",
    "PrivateKey = <HK_CLIENT_PRIVATE_KEY>\n",
    "\n",
    "[Peer]\n",
    "PublicKey = <GCP_SERVER_PUBLIC_KEY>\n",
    "Endpoint = <GCP_SERVER_PUBLIC_IP>:51820\n",
    "AllowedIPs = 0.0.0.0/0, ::/0\n",
    "PersistentKeepalive = 25"
   ]
  },
  {
   "cell_type": "markdown",
   "metadata": {},
   "source": [
    "Also on the **Hong Kong** server, create `/etc/hysteria/config.yaml`:"
   ]
  },
  {
   "cell_type": "code",
   "execution_count": null,
   "metadata": {},
   "outputs": [],
   "source": [
    "%%writefile hk_hysteria_config.yaml\n",
    "\n",
    "listen: :443\n",
    "\n",
    "auth:\n",
    "  type: password\n",
    "  password: \"YOUR_VERY_SECRET_PASSWORD\"\n",
    "\n",
    "transport:\n",
    "  type: udp\n",
    "  udp:\n",
    "    rate: 50 mbps\n",
    "    recvRate: 100 mbps"
   ]
  },
  {
   "cell_type": "markdown",
   "metadata": {},
   "source": [
    "### Step 2.3: Start Services\n",
    "\n",
    "**On both servers**, start the WireGuard interface:\n",
    "```bash\n",
    "wg-quick up wg0\n",
    "```\n",
    "\n",
    "**On the Hong Kong server**, start Hysteria (you may need to adapt this command depending on how you installed it):\n",
    "```bash\n",
    "hysteria server -c /etc/hysteria/config.yaml\n",
    "```"
   ]
  },
  {
   "cell_type": "markdown",
   "metadata": {},
   "source": [
    "## Part 3: Configure and Run the Local Client\n",
    "\n",
    "Now, create the client configuration file on your local machine. This tells your Hysteria client how to connect to the Hong Kong VPS."
   ]
  },
  {
   "cell_type": "code",
   "execution_count": null,
   "metadata": {},
   "outputs": [],
   "source": [
    "%%writefile client-config.yaml\n",
    "\n",
    "server: <HK_VPS_PUBLIC_IP>:443\n",
    "auth:\n",
    "  type: password\n",
    "  password: \"YOUR_VERY_SECRET_PASSWORD\"\n",
    "\n",
    "transport:\n",
    "  type: udp\n",
    "  udp:\n",
    "    rate: 50 mbps\n",
    "    recvRate: 100 mbps\n",
    "\n",
    "socks5:\n",
    "  listen: 127.0.0.1:1080"
   ]
  },
  {
   "cell_type": "markdown",
   "metadata": {},
   "source": [
    "Run the Hysteria client locally. This will start a SOCKS5 proxy on port `1080`."
   ]
  },
  {
   "cell_type": "code",
   "execution_count": null,
   "metadata": {},
   "outputs": [],
   "source": [
    "!./hysteria-linux-amd64-avx client -c client-config.yaml"
   ]
  },
  {
   "cell_type": "markdown",
   "metadata": {},
   "source": [
    "## Part 4: Testing\n",
    "\n",
    "1.  Configure your web browser or application to use the SOCKS5 proxy at `127.0.0.1:1080`.\n",
    "2.  Visit a site like `ifconfig.me` to verify that your public IP address matches the GCP server's IP.\n",
    "3.  You should now be able to access the desired content."
   ]
  },
  {
   "cell_type": "markdown",
   "metadata": {},
   "source": [
    "## Part 5: Cleanup\n",
    "\n",
    "To avoid ongoing charges, destroy the GCP infrastructure when you are finished."
   ]
  },
  {
   "cell_type": "code",
   "execution_count": null,
   "metadata": {},
   "outputs": [],
   "source": [
    "!terraform destroy --auto-approve"
   ]
  }
 ],
 "metadata": {
  "kernelspec": {
   "display_name": "Python 3",
   "language": "python",
   "name": "python3"
  },
  "language_info": {
   "codemirror_mode": {
    "name": "ipython",
    "version": 3
   },
   "file_extension": ".py",
   "mimetype": "text/x-python",
   "name": "python",
   "nbconvert_exporter": "python",
   "pygments_lexer": "ipython3",
   "version": "3.9.12"
  }
 },
 "nbformat": 4,
 "nbformat_minor": 4
}